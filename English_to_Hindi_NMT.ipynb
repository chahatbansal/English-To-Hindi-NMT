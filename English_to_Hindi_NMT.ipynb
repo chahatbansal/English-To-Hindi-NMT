{
  "nbformat": 4,
  "nbformat_minor": 0,
  "metadata": {
    "kernelspec": {
      "name": "python3",
      "display_name": "Python 3",
      "language": "python"
    },
    "language_info": {
      "name": "python",
      "version": "3.7.6",
      "mimetype": "text/x-python",
      "codemirror_mode": {
        "name": "ipython",
        "version": 3
      },
      "pygments_lexer": "ipython3",
      "nbconvert_exporter": "python",
      "file_extension": ".py"
    },
    "colab": {
      "name": "English to Hindi NMT 6",
      "provenance": []
    },
    "accelerator": "GPU"
  },
  "cells": [
    {
      "cell_type": "code",
      "metadata": {
        "_uuid": "8f2839f25d086af736a60e9eeb907d3b93b6e0e5",
        "_cell_guid": "b1076dfc-b9ad-4769-8c92-a6c4dae69d19",
        "trusted": true,
        "id": "eU_zzoKlru6x"
      },
      "source": [
        "import numpy as np\n",
        "import pandas as pd \n",
        "import tensorflow as tf\n",
        "from tensorflow import keras"
      ],
      "execution_count": 1,
      "outputs": []
    },
    {
      "cell_type": "code",
      "metadata": {
        "colab": {
          "base_uri": "https://localhost:8080/"
        },
        "id": "lE2hULr5Yw37",
        "outputId": "c382549a-f36e-4724-e9ff-e22c22de9594"
      },
      "source": [
        "import nltk\n",
        "nltk.download('punkt')"
      ],
      "execution_count": 2,
      "outputs": [
        {
          "output_type": "stream",
          "text": [
            "[nltk_data] Downloading package punkt to /root/nltk_data...\n",
            "[nltk_data]   Package punkt is already up-to-date!\n"
          ],
          "name": "stdout"
        },
        {
          "output_type": "execute_result",
          "data": {
            "text/plain": [
              "True"
            ]
          },
          "metadata": {
            "tags": []
          },
          "execution_count": 2
        }
      ]
    },
    {
      "cell_type": "code",
      "metadata": {
        "colab": {
          "base_uri": "https://localhost:8080/"
        },
        "id": "UDc1fQ5wr7IE",
        "outputId": "a757e74a-62d8-4aae-978d-3cc6dc321e03"
      },
      "source": [
        "from google.colab import drive\n",
        "drive.mount('/content/drive')"
      ],
      "execution_count": 3,
      "outputs": [
        {
          "output_type": "stream",
          "text": [
            "Drive already mounted at /content/drive; to attempt to forcibly remount, call drive.mount(\"/content/drive\", force_remount=True).\n"
          ],
          "name": "stdout"
        }
      ]
    },
    {
      "cell_type": "code",
      "metadata": {
        "_uuid": "d629ff2d2480ee46fbb7e2d37f6b5fab8052498a",
        "_cell_guid": "79c7e3d0-c299-4dcb-8224-4455121ee9b0",
        "trusted": true,
        "id": "YOhJpLlIru7M"
      },
      "source": [
        "data = pd.read_csv(\"/content/drive/My Drive/NMT/Hindi_English_Corpus.csv\")"
      ],
      "execution_count": 4,
      "outputs": []
    },
    {
      "cell_type": "code",
      "metadata": {
        "trusted": true,
        "colab": {
          "base_uri": "https://localhost:8080/",
          "height": 204
        },
        "id": "gWbTdwGIru7Q",
        "outputId": "ff9dcecc-1ef9-4bf6-b6e7-b577d4b1b5a3"
      },
      "source": [
        "data=data.drop('Unnamed: 0',axis=1)\n",
        "data.head()"
      ],
      "execution_count": 5,
      "outputs": [
        {
          "output_type": "execute_result",
          "data": {
            "text/html": [
              "<div>\n",
              "<style scoped>\n",
              "    .dataframe tbody tr th:only-of-type {\n",
              "        vertical-align: middle;\n",
              "    }\n",
              "\n",
              "    .dataframe tbody tr th {\n",
              "        vertical-align: top;\n",
              "    }\n",
              "\n",
              "    .dataframe thead th {\n",
              "        text-align: right;\n",
              "    }\n",
              "</style>\n",
              "<table border=\"1\" class=\"dataframe\">\n",
              "  <thead>\n",
              "    <tr style=\"text-align: right;\">\n",
              "      <th></th>\n",
              "      <th>english_sentence</th>\n",
              "      <th>hindi_sentence</th>\n",
              "    </tr>\n",
              "  </thead>\n",
              "  <tbody>\n",
              "    <tr>\n",
              "      <th>0</th>\n",
              "      <td>This percentage is even greater than the perce...</td>\n",
              "      <td>यह प्रतिशत भारत में हिन्दुओं प्रतिशत से अधिक है।</td>\n",
              "    </tr>\n",
              "    <tr>\n",
              "      <th>1</th>\n",
              "      <td>.The ending portion of these Vedas is called U...</td>\n",
              "      <td>इन्हीं वेदों का अंतिम भाग उपनिषद कहलाता है।</td>\n",
              "    </tr>\n",
              "    <tr>\n",
              "      <th>2</th>\n",
              "      <td>In this lies the circumstances of people befor...</td>\n",
              "      <td>इसमें तुमसे पूर्व गुज़रे हुए लोगों के हालात हैं।</td>\n",
              "    </tr>\n",
              "    <tr>\n",
              "      <th>3</th>\n",
              "      <td>Category: Religious Text</td>\n",
              "      <td>श्रेणी:धर्मग्रन्थ</td>\n",
              "    </tr>\n",
              "    <tr>\n",
              "      <th>4</th>\n",
              "      <td>This period summarily is pepped up with devotion.</td>\n",
              "      <td>यह काल समग्रतः भक्ति भावना से ओतप्रोत काल है।</td>\n",
              "    </tr>\n",
              "  </tbody>\n",
              "</table>\n",
              "</div>"
            ],
            "text/plain": [
              "                                    english_sentence                                    hindi_sentence\n",
              "0  This percentage is even greater than the perce...  यह प्रतिशत भारत में हिन्दुओं प्रतिशत से अधिक है।\n",
              "1  .The ending portion of these Vedas is called U...       इन्हीं वेदों का अंतिम भाग उपनिषद कहलाता है।\n",
              "2  In this lies the circumstances of people befor...  इसमें तुमसे पूर्व गुज़रे हुए लोगों के हालात हैं।\n",
              "3                           Category: Religious Text                                 श्रेणी:धर्मग्रन्थ\n",
              "4  This period summarily is pepped up with devotion.     यह काल समग्रतः भक्ति भावना से ओतप्रोत काल है।"
            ]
          },
          "metadata": {
            "tags": []
          },
          "execution_count": 5
        }
      ]
    },
    {
      "cell_type": "code",
      "metadata": {
        "trusted": true,
        "colab": {
          "base_uri": "https://localhost:8080/"
        },
        "id": "57wnBlSSru7g",
        "outputId": "2d52a0f1-52f9-4b23-dbe9-eed8d226eb7d"
      },
      "source": [
        "data.shape"
      ],
      "execution_count": 6,
      "outputs": [
        {
          "output_type": "execute_result",
          "data": {
            "text/plain": [
              "(45596, 2)"
            ]
          },
          "metadata": {
            "tags": []
          },
          "execution_count": 6
        }
      ]
    },
    {
      "cell_type": "code",
      "metadata": {
        "trusted": true,
        "id": "lgF7qlcRru7j"
      },
      "source": [
        "data = data.to_numpy()"
      ],
      "execution_count": 7,
      "outputs": []
    },
    {
      "cell_type": "code",
      "metadata": {
        "trusted": true,
        "id": "WVT2Pky3ru7k"
      },
      "source": [
        "english=data[:,0]\n",
        "hindi=data[:,1]"
      ],
      "execution_count": 8,
      "outputs": []
    },
    {
      "cell_type": "code",
      "metadata": {
        "colab": {
          "base_uri": "https://localhost:8080/"
        },
        "id": "hsgh--qfm9Sp",
        "outputId": "8bbaf35c-b031-4868-dc13-6026bb6df230"
      },
      "source": [
        "english[:5]"
      ],
      "execution_count": 9,
      "outputs": [
        {
          "output_type": "execute_result",
          "data": {
            "text/plain": [
              "array(['This percentage is even greater than the percentage in India.',\n",
              "       '.The ending portion of these Vedas is called Upanishad.',\n",
              "       'In this lies the circumstances of people before you.',\n",
              "       'Category: Religious Text',\n",
              "       'This period summarily is pepped up with devotion.'], dtype=object)"
            ]
          },
          "metadata": {
            "tags": []
          },
          "execution_count": 9
        }
      ]
    },
    {
      "cell_type": "code",
      "metadata": {
        "colab": {
          "base_uri": "https://localhost:8080/"
        },
        "id": "sovtG2DonA5k",
        "outputId": "b5cb772e-5435-4cdb-9126-d4904bc77c28"
      },
      "source": [
        "hindi[:5]"
      ],
      "execution_count": 10,
      "outputs": [
        {
          "output_type": "execute_result",
          "data": {
            "text/plain": [
              "array(['यह प्रतिशत भारत में हिन्दुओं प्रतिशत से अधिक है।',\n",
              "       'इन्हीं वेदों का अंतिम भाग उपनिषद कहलाता है।',\n",
              "       'इसमें तुमसे पूर्व गुज़रे हुए लोगों के हालात हैं।',\n",
              "       'श्रेणी:धर्मग्रन्थ',\n",
              "       'यह काल समग्रतः भक्ति भावना से ओतप्रोत काल है।'], dtype=object)"
            ]
          },
          "metadata": {
            "tags": []
          },
          "execution_count": 10
        }
      ]
    },
    {
      "cell_type": "code",
      "metadata": {
        "colab": {
          "base_uri": "https://localhost:8080/"
        },
        "id": "5gh16W4pXXxs",
        "outputId": "d6b233d0-8953-443f-f800-6d3513217e4f"
      },
      "source": [
        "# Maximum length (number of words) per document. We will need it later for embeddings\n",
        "maxlen_english = -1\n",
        "for doc in english:\n",
        "    tokens = nltk.word_tokenize(doc)\n",
        "    if(maxlen_english < len(tokens)):\n",
        "        maxlen_english = len(tokens)\n",
        "print(\"The maximum number of words in any document = \", maxlen_english)"
      ],
      "execution_count": 11,
      "outputs": [
        {
          "output_type": "stream",
          "text": [
            "The maximum number of words in any document =  33\n"
          ],
          "name": "stdout"
        }
      ]
    },
    {
      "cell_type": "code",
      "metadata": {
        "colab": {
          "base_uri": "https://localhost:8080/"
        },
        "id": "Sf8L-I14Y6J2",
        "outputId": "fbbd0f9f-2c4c-4faa-f0a6-05c6576b2088"
      },
      "source": [
        "# Maximum length (number of words) per document. We will need it later for embeddings\n",
        "maxlen_hindi = -1\n",
        "for doc in hindi:\n",
        "    tokens = nltk.word_tokenize(doc)\n",
        "    if(maxlen_hindi < len(tokens)):\n",
        "        maxlen_hindi = len(tokens)\n",
        "print(\"The maximum number of words in any document = \", maxlen_hindi)"
      ],
      "execution_count": 12,
      "outputs": [
        {
          "output_type": "stream",
          "text": [
            "The maximum number of words in any document =  24\n"
          ],
          "name": "stdout"
        }
      ]
    },
    {
      "cell_type": "code",
      "metadata": {
        "trusted": true,
        "id": "8TAqReA9ru7l"
      },
      "source": [
        "def tokenize_and_pad(x, maxlen):\n",
        "  #  a tokenier to tokenize the words and create sequences of tokenized words\n",
        "  tokenizer = keras.preprocessing.text.Tokenizer(char_level = False)\n",
        "  tokenizer.fit_on_texts(x)\n",
        "  sequences = tokenizer.texts_to_sequences(x)\n",
        "  padded = tf.keras.preprocessing.sequence.pad_sequences(sequences, maxlen = maxlen, padding = 'post')\n",
        "  return tokenizer, sequences, padded"
      ],
      "execution_count": 13,
      "outputs": []
    },
    {
      "cell_type": "code",
      "metadata": {
        "trusted": true,
        "id": "FivoJ7a6ru7n"
      },
      "source": [
        "# tokenize and padding to the data \n",
        "x_tokenizer, x_sequences, x_padded = tokenize_and_pad(english, maxlen_english)\n",
        "y_tokenizer, y_sequences, y_padded = tokenize_and_pad(hindi,  maxlen_hindi)"
      ],
      "execution_count": 14,
      "outputs": []
    },
    {
      "cell_type": "code",
      "metadata": {
        "colab": {
          "base_uri": "https://localhost:8080/"
        },
        "id": "08ycgQQqniPf",
        "outputId": "c227c775-70bd-4d5b-a023-ce0fb9bae494"
      },
      "source": [
        "x_sequences[:5]"
      ],
      "execution_count": 15,
      "outputs": [
        {
          "output_type": "execute_result",
          "data": {
            "text/plain": [
              "[[9, 1606, 7, 116, 1140, 117, 1, 1606, 5, 56],\n",
              " [1, 4841, 4132, 2, 37, 705, 7, 106, 7606],\n",
              " [5, 9, 2324, 1, 1893, 2, 41, 214, 10],\n",
              " [78, 342, 566],\n",
              " [9, 386, 10654, 7, 10655, 70, 21, 1392]]"
            ]
          },
          "metadata": {
            "tags": []
          },
          "execution_count": 15
        }
      ]
    },
    {
      "cell_type": "code",
      "metadata": {
        "colab": {
          "base_uri": "https://localhost:8080/"
        },
        "id": "yno09Sai7DPn",
        "outputId": "831245c1-39dc-4bc2-ff1e-a04150618597"
      },
      "source": [
        "np.array(x_sequences).shape"
      ],
      "execution_count": 16,
      "outputs": [
        {
          "output_type": "stream",
          "text": [
            "/usr/local/lib/python3.7/dist-packages/ipykernel_launcher.py:1: VisibleDeprecationWarning: Creating an ndarray from ragged nested sequences (which is a list-or-tuple of lists-or-tuples-or ndarrays with different lengths or shapes) is deprecated. If you meant to do this, you must specify 'dtype=object' when creating the ndarray\n",
            "  \"\"\"Entry point for launching an IPython kernel.\n"
          ],
          "name": "stderr"
        },
        {
          "output_type": "execute_result",
          "data": {
            "text/plain": [
              "(45596,)"
            ]
          },
          "metadata": {
            "tags": []
          },
          "execution_count": 16
        }
      ]
    },
    {
      "cell_type": "code",
      "metadata": {
        "colab": {
          "base_uri": "https://localhost:8080/"
        },
        "id": "P8NpDYqpnmaN",
        "outputId": "1995f0ef-b44f-4261-e69d-5f2015ea7c75"
      },
      "source": [
        "y_sequences[:5]"
      ],
      "execution_count": 17,
      "outputs": [
        {
          "output_type": "execute_result",
          "data": {
            "text/plain": [
              "[[11, 294, 45, 4, 1714, 294, 7, 142, 13],\n",
              " [3339, 1502, 8, 1023, 185, 3340, 2160, 13],\n",
              " [180, 3866, 347, 9277, 111, 82, 2, 3867, 28],\n",
              " [34, 857],\n",
              " [11, 421, 7765, 1024, 604, 7, 7766, 421, 13]]"
            ]
          },
          "metadata": {
            "tags": []
          },
          "execution_count": 17
        }
      ]
    },
    {
      "cell_type": "code",
      "metadata": {
        "colab": {
          "base_uri": "https://localhost:8080/"
        },
        "id": "33MWln-r7IPy",
        "outputId": "84081ec8-52b5-4f9a-a404-ac8f92a8ce8f"
      },
      "source": [
        "np.array(y_sequences).shape"
      ],
      "execution_count": 18,
      "outputs": [
        {
          "output_type": "stream",
          "text": [
            "/usr/local/lib/python3.7/dist-packages/ipykernel_launcher.py:1: VisibleDeprecationWarning: Creating an ndarray from ragged nested sequences (which is a list-or-tuple of lists-or-tuples-or ndarrays with different lengths or shapes) is deprecated. If you meant to do this, you must specify 'dtype=object' when creating the ndarray\n",
            "  \"\"\"Entry point for launching an IPython kernel.\n"
          ],
          "name": "stderr"
        },
        {
          "output_type": "execute_result",
          "data": {
            "text/plain": [
              "(45596,)"
            ]
          },
          "metadata": {
            "tags": []
          },
          "execution_count": 18
        }
      ]
    },
    {
      "cell_type": "code",
      "metadata": {
        "colab": {
          "base_uri": "https://localhost:8080/"
        },
        "id": "4DWC6yjR6Wgq",
        "outputId": "bdbfe918-8523-49ba-c9cf-4cb8d468a961"
      },
      "source": [
        "enc_vocab_size = len(x_tokenizer.index_word) + 1\n",
        "dec_vocab_size = len(y_tokenizer.index_word) + 1\n",
        "enc_vocab_size, dec_vocab_size"
      ],
      "execution_count": 19,
      "outputs": [
        {
          "output_type": "execute_result",
          "data": {
            "text/plain": [
              "(21242, 22323)"
            ]
          },
          "metadata": {
            "tags": []
          },
          "execution_count": 19
        }
      ]
    },
    {
      "cell_type": "markdown",
      "metadata": {
        "id": "0OA6kcwtJNPy"
      },
      "source": [
        "*****************"
      ]
    },
    {
      "cell_type": "code",
      "metadata": {
        "trusted": true,
        "id": "NX0-wtxxru7h"
      },
      "source": [
        "# Train test split\n",
        "from sklearn.model_selection import train_test_split\n",
        "\n",
        "x_train, x_test, y_train, y_test = train_test_split(x_padded, y_padded, test_size = 0.1)"
      ],
      "execution_count": 20,
      "outputs": []
    },
    {
      "cell_type": "code",
      "metadata": {
        "trusted": true,
        "colab": {
          "base_uri": "https://localhost:8080/"
        },
        "id": "l60oOMCAru7i",
        "outputId": "94d1cabe-04a9-4951-e7b9-fc603d6f17aa"
      },
      "source": [
        "x_train.shape, y_train.shape"
      ],
      "execution_count": 21,
      "outputs": [
        {
          "output_type": "execute_result",
          "data": {
            "text/plain": [
              "((41036, 33), (41036, 24))"
            ]
          },
          "metadata": {
            "tags": []
          },
          "execution_count": 21
        }
      ]
    },
    {
      "cell_type": "code",
      "metadata": {
        "colab": {
          "base_uri": "https://localhost:8080/"
        },
        "id": "kmpIwv5SKA10",
        "outputId": "71795de6-7ecf-4100-a287-aa81e133081b"
      },
      "source": [
        "x_test.shape, y_test.shape"
      ],
      "execution_count": 22,
      "outputs": [
        {
          "output_type": "execute_result",
          "data": {
            "text/plain": [
              "((4560, 33), (4560, 24))"
            ]
          },
          "metadata": {
            "tags": []
          },
          "execution_count": 22
        }
      ]
    },
    {
      "cell_type": "code",
      "metadata": {
        "id": "LQkliD003P5o"
      },
      "source": [
        "class myCallback(tf.keras.callbacks.Callback):\n",
        "  def on_epoch_end(self, epoch, logs={}):\n",
        "    if(logs.get('sparse_categorical_accuracy')>0.97):\n",
        "      print(\"\\nReached 97% accuracy so cancelling training!\")\n",
        "      self.model.stop_training = True\n",
        "\n",
        "\n",
        "callbacks = myCallback()"
      ],
      "execution_count": 23,
      "outputs": []
    },
    {
      "cell_type": "code",
      "metadata": {
        "id": "V8bJHmDU8CoY"
      },
      "source": [
        "def translator():\n",
        "  model = keras.Sequential()\n",
        "\n",
        "  model.add(keras.layers.Embedding(enc_vocab_size, 256, input_length = maxlen_english, mask_zero = True))\n",
        "\n",
        "  model.add(keras.layers.LSTM(512, return_sequences=True))\n",
        "  model.add(keras.layers.LSTM(512))\n",
        "  \n",
        "\n",
        "  model.add(keras.layers.RepeatVector(maxlen_hindi))\n",
        "\n",
        "  model.add(keras.layers.LSTM(512, return_sequences= True ))\n",
        "  model.add(keras.layers.LSTM(512, return_sequences= True ))\n",
        "  \n",
        "  model.add(keras.layers.Dense(dec_vocab_size, activation ='softmax'))\n",
        "\n",
        "  return model\n",
        "\n"
      ],
      "execution_count": 24,
      "outputs": []
    },
    {
      "cell_type": "code",
      "metadata": {
        "colab": {
          "base_uri": "https://localhost:8080/"
        },
        "id": "NTz24X9sk_5o",
        "outputId": "75418ccb-244c-4580-da90-753380d431c7"
      },
      "source": [
        "model = translator()\n",
        "model.compile(optimizer='adam', loss='sparse_categorical_crossentropy', metrics=['sparse_categorical_accuracy'])\n",
        "\n",
        "model.summary()"
      ],
      "execution_count": 25,
      "outputs": [
        {
          "output_type": "stream",
          "text": [
            "Model: \"sequential\"\n",
            "_________________________________________________________________\n",
            "Layer (type)                 Output Shape              Param #   \n",
            "=================================================================\n",
            "embedding (Embedding)        (None, 33, 256)           5437952   \n",
            "_________________________________________________________________\n",
            "lstm (LSTM)                  (None, 33, 512)           1574912   \n",
            "_________________________________________________________________\n",
            "lstm_1 (LSTM)                (None, 512)               2099200   \n",
            "_________________________________________________________________\n",
            "repeat_vector (RepeatVector) (None, 24, 512)           0         \n",
            "_________________________________________________________________\n",
            "lstm_2 (LSTM)                (None, 24, 512)           2099200   \n",
            "_________________________________________________________________\n",
            "lstm_3 (LSTM)                (None, 24, 512)           2099200   \n",
            "_________________________________________________________________\n",
            "dense (Dense)                (None, 24, 22323)         11451699  \n",
            "=================================================================\n",
            "Total params: 24,762,163\n",
            "Trainable params: 24,762,163\n",
            "Non-trainable params: 0\n",
            "_________________________________________________________________\n"
          ],
          "name": "stdout"
        }
      ]
    },
    {
      "cell_type": "code",
      "metadata": {
        "colab": {
          "base_uri": "https://localhost:8080/",
          "height": 758
        },
        "id": "vuqqsyxRlo23",
        "outputId": "eaa9ab4d-40f7-4fa7-debd-2e12035d6fa9"
      },
      "source": [
        "keras.utils.plot_model(model)"
      ],
      "execution_count": 26,
      "outputs": [
        {
          "output_type": "execute_result",
          "data": {
            "image/png": "[encoded data removed]",
            "text/plain": [
              "<IPython.core.display.Image object>"
            ]
          },
          "metadata": {
            "tags": []
          },
          "execution_count": 26
        }
      ]
    },
    {
      "cell_type": "code",
      "metadata": {
        "colab": {
          "base_uri": "https://localhost:8080/"
        },
        "id": "KfARhlK8avjr",
        "outputId": "015088f7-af80-44b0-e328-750bfb088135"
      },
      "source": [
        "# change the shape of target from 2D to 3D\n",
        "y_train = np.expand_dims(y_train, axis = 2)\n",
        "y_train.shape"
      ],
      "execution_count": 27,
      "outputs": [
        {
          "output_type": "execute_result",
          "data": {
            "text/plain": [
              "(41036, 24, 1)"
            ]
          },
          "metadata": {
            "tags": []
          },
          "execution_count": 27
        }
      ]
    },
    {
      "cell_type": "code",
      "metadata": {
        "id": "T2xvc5Fflke2",
        "colab": {
          "base_uri": "https://localhost:8080/"
        },
        "outputId": "35f57873-74fa-470d-d2c7-074d7c8fabd2"
      },
      "source": [
        "# train the model\n",
        "model.fit(x_train, y_train, epochs=400, batch_size=1024, validation_split= 0.1, callbacks=[callbacks], initial_epoch=200)"
      ],
      "execution_count": 35,
      "outputs": [
        {
          "output_type": "stream",
          "text": [
            "Epoch 201/400\n",
            "37/37 [==============================] - 22s 592ms/step - loss: 0.5474 - sparse_categorical_accuracy: 0.8868 - val_loss: 2.2668 - val_sparse_categorical_accuracy: 0.7650\n",
            "Epoch 202/400\n",
            "37/37 [==============================] - 22s 590ms/step - loss: 0.5415 - sparse_categorical_accuracy: 0.8878 - val_loss: 2.2766 - val_sparse_categorical_accuracy: 0.7668\n",
            "Epoch 203/400\n",
            "37/37 [==============================] - 22s 591ms/step - loss: 0.5351 - sparse_categorical_accuracy: 0.8892 - val_loss: 2.2771 - val_sparse_categorical_accuracy: 0.7664\n",
            "Epoch 204/400\n",
            "37/37 [==============================] - 22s 591ms/step - loss: 0.5329 - sparse_categorical_accuracy: 0.8895 - val_loss: 2.2847 - val_sparse_categorical_accuracy: 0.7663\n",
            "Epoch 205/400\n",
            "37/37 [==============================] - 22s 592ms/step - loss: 0.5297 - sparse_categorical_accuracy: 0.8901 - val_loss: 2.2825 - val_sparse_categorical_accuracy: 0.7651\n",
            "Epoch 206/400\n",
            "37/37 [==============================] - 22s 591ms/step - loss: 0.5246 - sparse_categorical_accuracy: 0.8908 - val_loss: 2.2874 - val_sparse_categorical_accuracy: 0.7661\n",
            "Epoch 207/400\n",
            "37/37 [==============================] - 22s 590ms/step - loss: 0.5176 - sparse_categorical_accuracy: 0.8924 - val_loss: 2.2982 - val_sparse_categorical_accuracy: 0.7666\n",
            "Epoch 208/400\n",
            "37/37 [==============================] - 22s 591ms/step - loss: 0.5134 - sparse_categorical_accuracy: 0.8931 - val_loss: 2.2982 - val_sparse_categorical_accuracy: 0.7661\n",
            "Epoch 209/400\n",
            "37/37 [==============================] - 22s 592ms/step - loss: 0.5085 - sparse_categorical_accuracy: 0.8941 - val_loss: 2.3081 - val_sparse_categorical_accuracy: 0.7663\n",
            "Epoch 210/400\n",
            "37/37 [==============================] - 22s 589ms/step - loss: 0.5000 - sparse_categorical_accuracy: 0.8958 - val_loss: 2.3072 - val_sparse_categorical_accuracy: 0.7661\n",
            "Epoch 211/400\n",
            "37/37 [==============================] - 22s 592ms/step - loss: 0.4971 - sparse_categorical_accuracy: 0.8963 - val_loss: 2.3123 - val_sparse_categorical_accuracy: 0.7665\n",
            "Epoch 212/400\n",
            "37/37 [==============================] - 22s 591ms/step - loss: 0.4918 - sparse_categorical_accuracy: 0.8972 - val_loss: 2.3105 - val_sparse_categorical_accuracy: 0.7665\n",
            "Epoch 213/400\n",
            "37/37 [==============================] - 22s 587ms/step - loss: 0.4863 - sparse_categorical_accuracy: 0.8985 - val_loss: 2.3264 - val_sparse_categorical_accuracy: 0.7658\n",
            "Epoch 214/400\n",
            "37/37 [==============================] - 22s 591ms/step - loss: 0.4843 - sparse_categorical_accuracy: 0.8988 - val_loss: 2.3278 - val_sparse_categorical_accuracy: 0.7657\n",
            "Epoch 215/400\n",
            "37/37 [==============================] - 22s 587ms/step - loss: 0.4771 - sparse_categorical_accuracy: 0.9001 - val_loss: 2.3241 - val_sparse_categorical_accuracy: 0.7651\n",
            "Epoch 216/400\n",
            "37/37 [==============================] - 22s 591ms/step - loss: 0.4728 - sparse_categorical_accuracy: 0.9010 - val_loss: 2.3393 - val_sparse_categorical_accuracy: 0.7661\n",
            "Epoch 217/400\n",
            "37/37 [==============================] - 22s 593ms/step - loss: 0.4711 - sparse_categorical_accuracy: 0.9011 - val_loss: 2.3429 - val_sparse_categorical_accuracy: 0.7665\n",
            "Epoch 218/400\n",
            "37/37 [==============================] - 22s 592ms/step - loss: 0.4666 - sparse_categorical_accuracy: 0.9021 - val_loss: 2.3397 - val_sparse_categorical_accuracy: 0.7643\n",
            "Epoch 219/400\n",
            "37/37 [==============================] - 22s 592ms/step - loss: 0.4678 - sparse_categorical_accuracy: 0.9015 - val_loss: 2.3521 - val_sparse_categorical_accuracy: 0.7660\n",
            "Epoch 220/400\n",
            "37/37 [==============================] - 22s 586ms/step - loss: 0.4610 - sparse_categorical_accuracy: 0.9028 - val_loss: 2.3563 - val_sparse_categorical_accuracy: 0.7669\n",
            "Epoch 221/400\n",
            "37/37 [==============================] - 22s 592ms/step - loss: 0.4535 - sparse_categorical_accuracy: 0.9044 - val_loss: 2.3552 - val_sparse_categorical_accuracy: 0.7654\n",
            "Epoch 222/400\n",
            "37/37 [==============================] - 22s 587ms/step - loss: 0.4482 - sparse_categorical_accuracy: 0.9057 - val_loss: 2.3579 - val_sparse_categorical_accuracy: 0.7644\n",
            "Epoch 223/400\n",
            "37/37 [==============================] - 22s 587ms/step - loss: 0.4435 - sparse_categorical_accuracy: 0.9066 - val_loss: 2.3656 - val_sparse_categorical_accuracy: 0.7652\n",
            "Epoch 224/400\n",
            "37/37 [==============================] - 22s 592ms/step - loss: 0.4379 - sparse_categorical_accuracy: 0.9079 - val_loss: 2.3754 - val_sparse_categorical_accuracy: 0.7646\n",
            "Epoch 225/400\n",
            "37/37 [==============================] - 22s 591ms/step - loss: 0.4339 - sparse_categorical_accuracy: 0.9086 - val_loss: 2.3805 - val_sparse_categorical_accuracy: 0.7655\n",
            "Epoch 226/400\n",
            "37/37 [==============================] - 22s 592ms/step - loss: 0.4313 - sparse_categorical_accuracy: 0.9090 - val_loss: 2.3946 - val_sparse_categorical_accuracy: 0.7672\n",
            "Epoch 227/400\n",
            "37/37 [==============================] - 22s 592ms/step - loss: 0.4277 - sparse_categorical_accuracy: 0.9097 - val_loss: 2.3882 - val_sparse_categorical_accuracy: 0.7650\n",
            "Epoch 228/400\n",
            "37/37 [==============================] - 22s 592ms/step - loss: 0.4242 - sparse_categorical_accuracy: 0.9102 - val_loss: 2.4020 - val_sparse_categorical_accuracy: 0.7660\n",
            "Epoch 229/400\n",
            "37/37 [==============================] - 22s 593ms/step - loss: 0.4201 - sparse_categorical_accuracy: 0.9111 - val_loss: 2.3983 - val_sparse_categorical_accuracy: 0.7646\n",
            "Epoch 230/400\n",
            "37/37 [==============================] - 22s 591ms/step - loss: 0.4179 - sparse_categorical_accuracy: 0.9114 - val_loss: 2.4076 - val_sparse_categorical_accuracy: 0.7662\n",
            "Epoch 231/400\n",
            "37/37 [==============================] - 22s 586ms/step - loss: 0.4108 - sparse_categorical_accuracy: 0.9130 - val_loss: 2.4122 - val_sparse_categorical_accuracy: 0.7666\n",
            "Epoch 232/400\n",
            "37/37 [==============================] - 22s 593ms/step - loss: 0.4074 - sparse_categorical_accuracy: 0.9137 - val_loss: 2.4180 - val_sparse_categorical_accuracy: 0.7662\n",
            "Epoch 233/400\n",
            "37/37 [==============================] - 22s 587ms/step - loss: 0.4019 - sparse_categorical_accuracy: 0.9151 - val_loss: 2.4163 - val_sparse_categorical_accuracy: 0.7650\n",
            "Epoch 234/400\n",
            "37/37 [==============================] - 22s 587ms/step - loss: 0.3981 - sparse_categorical_accuracy: 0.9157 - val_loss: 2.4275 - val_sparse_categorical_accuracy: 0.7656\n",
            "Epoch 235/400\n",
            "37/37 [==============================] - 22s 592ms/step - loss: 0.3898 - sparse_categorical_accuracy: 0.9177 - val_loss: 2.4321 - val_sparse_categorical_accuracy: 0.7664\n",
            "Epoch 236/400\n",
            "37/37 [==============================] - 22s 591ms/step - loss: 0.3838 - sparse_categorical_accuracy: 0.9190 - val_loss: 2.4430 - val_sparse_categorical_accuracy: 0.7663\n",
            "Epoch 237/400\n",
            "37/37 [==============================] - 22s 590ms/step - loss: 0.3807 - sparse_categorical_accuracy: 0.9195 - val_loss: 2.4428 - val_sparse_categorical_accuracy: 0.7669\n",
            "Epoch 238/400\n",
            "37/37 [==============================] - 22s 591ms/step - loss: 0.3767 - sparse_categorical_accuracy: 0.9205 - val_loss: 2.4555 - val_sparse_categorical_accuracy: 0.7656\n",
            "Epoch 239/400\n",
            "37/37 [==============================] - 22s 591ms/step - loss: 0.3730 - sparse_categorical_accuracy: 0.9213 - val_loss: 2.4539 - val_sparse_categorical_accuracy: 0.7667\n",
            "Epoch 240/400\n",
            "37/37 [==============================] - 22s 586ms/step - loss: 0.3703 - sparse_categorical_accuracy: 0.9217 - val_loss: 2.4604 - val_sparse_categorical_accuracy: 0.7654\n",
            "Epoch 241/400\n",
            "37/37 [==============================] - 22s 590ms/step - loss: 0.3644 - sparse_categorical_accuracy: 0.9230 - val_loss: 2.4723 - val_sparse_categorical_accuracy: 0.7665\n",
            "Epoch 242/400\n",
            "37/37 [==============================] - 22s 586ms/step - loss: 0.3596 - sparse_categorical_accuracy: 0.9241 - val_loss: 2.4749 - val_sparse_categorical_accuracy: 0.7665\n",
            "Epoch 243/400\n",
            "37/37 [==============================] - 22s 589ms/step - loss: 0.3556 - sparse_categorical_accuracy: 0.9249 - val_loss: 2.4716 - val_sparse_categorical_accuracy: 0.7650\n",
            "Epoch 244/400\n",
            "37/37 [==============================] - 22s 590ms/step - loss: 0.3539 - sparse_categorical_accuracy: 0.9252 - val_loss: 2.4873 - val_sparse_categorical_accuracy: 0.7658\n",
            "Epoch 245/400\n",
            "37/37 [==============================] - 21s 581ms/step - loss: 0.3496 - sparse_categorical_accuracy: 0.9259 - val_loss: 2.4898 - val_sparse_categorical_accuracy: 0.7627\n",
            "Epoch 246/400\n",
            "37/37 [==============================] - 22s 589ms/step - loss: 0.3509 - sparse_categorical_accuracy: 0.9252 - val_loss: 2.4927 - val_sparse_categorical_accuracy: 0.7656\n",
            "Epoch 247/400\n",
            "37/37 [==============================] - 22s 591ms/step - loss: 0.3439 - sparse_categorical_accuracy: 0.9271 - val_loss: 2.4976 - val_sparse_categorical_accuracy: 0.7645\n",
            "Epoch 248/400\n",
            "37/37 [==============================] - 22s 590ms/step - loss: 0.3441 - sparse_categorical_accuracy: 0.9266 - val_loss: 2.5078 - val_sparse_categorical_accuracy: 0.7656\n",
            "Epoch 249/400\n",
            "37/37 [==============================] - 22s 592ms/step - loss: 0.3484 - sparse_categorical_accuracy: 0.9256 - val_loss: 2.5057 - val_sparse_categorical_accuracy: 0.7660\n",
            "Epoch 250/400\n",
            "37/37 [==============================] - 22s 590ms/step - loss: 0.3377 - sparse_categorical_accuracy: 0.9280 - val_loss: 2.5162 - val_sparse_categorical_accuracy: 0.7657\n",
            "Epoch 251/400\n",
            "37/37 [==============================] - 22s 585ms/step - loss: 0.3268 - sparse_categorical_accuracy: 0.9308 - val_loss: 2.5177 - val_sparse_categorical_accuracy: 0.7656\n",
            "Epoch 252/400\n",
            "37/37 [==============================] - 22s 589ms/step - loss: 0.3218 - sparse_categorical_accuracy: 0.9320 - val_loss: 2.5311 - val_sparse_categorical_accuracy: 0.7653\n",
            "Epoch 253/400\n",
            "37/37 [==============================] - 22s 589ms/step - loss: 0.3166 - sparse_categorical_accuracy: 0.9333 - val_loss: 2.5295 - val_sparse_categorical_accuracy: 0.7666\n",
            "Epoch 254/400\n",
            "37/37 [==============================] - 22s 586ms/step - loss: 0.3114 - sparse_categorical_accuracy: 0.9346 - val_loss: 2.5242 - val_sparse_categorical_accuracy: 0.7640\n",
            "Epoch 255/400\n",
            "37/37 [==============================] - 22s 589ms/step - loss: 0.3073 - sparse_categorical_accuracy: 0.9354 - val_loss: 2.5477 - val_sparse_categorical_accuracy: 0.7657\n",
            "Epoch 256/400\n",
            "37/37 [==============================] - 22s 589ms/step - loss: 0.2987 - sparse_categorical_accuracy: 0.9375 - val_loss: 2.5552 - val_sparse_categorical_accuracy: 0.7664\n",
            "Epoch 257/400\n",
            "37/37 [==============================] - 22s 589ms/step - loss: 0.2976 - sparse_categorical_accuracy: 0.9377 - val_loss: 2.5561 - val_sparse_categorical_accuracy: 0.7650\n",
            "Epoch 258/400\n",
            "37/37 [==============================] - 22s 590ms/step - loss: 0.2970 - sparse_categorical_accuracy: 0.9377 - val_loss: 2.5595 - val_sparse_categorical_accuracy: 0.7646\n",
            "Epoch 259/400\n",
            "37/37 [==============================] - 22s 589ms/step - loss: 0.2913 - sparse_categorical_accuracy: 0.9388 - val_loss: 2.5703 - val_sparse_categorical_accuracy: 0.7664\n",
            "Epoch 260/400\n",
            "37/37 [==============================] - 22s 590ms/step - loss: 0.2851 - sparse_categorical_accuracy: 0.9405 - val_loss: 2.5764 - val_sparse_categorical_accuracy: 0.7663\n",
            "Epoch 261/400\n",
            "37/37 [==============================] - 22s 590ms/step - loss: 0.2802 - sparse_categorical_accuracy: 0.9417 - val_loss: 2.5781 - val_sparse_categorical_accuracy: 0.7652\n",
            "Epoch 262/400\n",
            "37/37 [==============================] - 22s 590ms/step - loss: 0.2810 - sparse_categorical_accuracy: 0.9412 - val_loss: 2.5937 - val_sparse_categorical_accuracy: 0.7642\n",
            "Epoch 263/400\n",
            "37/37 [==============================] - 22s 590ms/step - loss: 0.2785 - sparse_categorical_accuracy: 0.9416 - val_loss: 2.6034 - val_sparse_categorical_accuracy: 0.7665\n",
            "Epoch 264/400\n",
            "37/37 [==============================] - 22s 589ms/step - loss: 0.2758 - sparse_categorical_accuracy: 0.9423 - val_loss: 2.5988 - val_sparse_categorical_accuracy: 0.7658\n",
            "Epoch 265/400\n",
            "37/37 [==============================] - 22s 589ms/step - loss: 0.2693 - sparse_categorical_accuracy: 0.9439 - val_loss: 2.6091 - val_sparse_categorical_accuracy: 0.7668\n",
            "Epoch 266/400\n",
            "37/37 [==============================] - 22s 590ms/step - loss: 0.2649 - sparse_categorical_accuracy: 0.9447 - val_loss: 2.6210 - val_sparse_categorical_accuracy: 0.7664\n",
            "Epoch 267/400\n",
            "37/37 [==============================] - 22s 591ms/step - loss: 0.2601 - sparse_categorical_accuracy: 0.9461 - val_loss: 2.6130 - val_sparse_categorical_accuracy: 0.7647\n",
            "Epoch 268/400\n",
            "37/37 [==============================] - 22s 590ms/step - loss: 0.2559 - sparse_categorical_accuracy: 0.9470 - val_loss: 2.6300 - val_sparse_categorical_accuracy: 0.7649\n",
            "Epoch 269/400\n",
            "37/37 [==============================] - 22s 590ms/step - loss: 0.2515 - sparse_categorical_accuracy: 0.9482 - val_loss: 2.6357 - val_sparse_categorical_accuracy: 0.7643\n",
            "Epoch 270/400\n",
            "37/37 [==============================] - 22s 586ms/step - loss: 0.2522 - sparse_categorical_accuracy: 0.9478 - val_loss: 2.6333 - val_sparse_categorical_accuracy: 0.7641\n",
            "Epoch 271/400\n",
            "37/37 [==============================] - 22s 584ms/step - loss: 0.2487 - sparse_categorical_accuracy: 0.9486 - val_loss: 2.6575 - val_sparse_categorical_accuracy: 0.7659\n",
            "Epoch 272/400\n",
            "37/37 [==============================] - 22s 585ms/step - loss: 0.2442 - sparse_categorical_accuracy: 0.9497 - val_loss: 2.6452 - val_sparse_categorical_accuracy: 0.7662\n",
            "Epoch 273/400\n",
            "37/37 [==============================] - 22s 589ms/step - loss: 0.2388 - sparse_categorical_accuracy: 0.9510 - val_loss: 2.6572 - val_sparse_categorical_accuracy: 0.7646\n",
            "Epoch 274/400\n",
            "37/37 [==============================] - 22s 585ms/step - loss: 0.2364 - sparse_categorical_accuracy: 0.9514 - val_loss: 2.6641 - val_sparse_categorical_accuracy: 0.7656\n",
            "Epoch 275/400\n",
            "37/37 [==============================] - 22s 591ms/step - loss: 0.2305 - sparse_categorical_accuracy: 0.9529 - val_loss: 2.6669 - val_sparse_categorical_accuracy: 0.7656\n",
            "Epoch 276/400\n",
            "37/37 [==============================] - 22s 590ms/step - loss: 0.2247 - sparse_categorical_accuracy: 0.9544 - val_loss: 2.6799 - val_sparse_categorical_accuracy: 0.7665\n",
            "Epoch 277/400\n",
            "37/37 [==============================] - 22s 589ms/step - loss: 0.2230 - sparse_categorical_accuracy: 0.9547 - val_loss: 2.6832 - val_sparse_categorical_accuracy: 0.7656\n",
            "Epoch 278/400\n",
            "37/37 [==============================] - 22s 590ms/step - loss: 0.2236 - sparse_categorical_accuracy: 0.9542 - val_loss: 2.6913 - val_sparse_categorical_accuracy: 0.7653\n",
            "Epoch 279/400\n",
            "37/37 [==============================] - 22s 590ms/step - loss: 0.2228 - sparse_categorical_accuracy: 0.9544 - val_loss: 2.6947 - val_sparse_categorical_accuracy: 0.7647\n",
            "Epoch 280/400\n",
            "37/37 [==============================] - 22s 585ms/step - loss: 0.2189 - sparse_categorical_accuracy: 0.9550 - val_loss: 2.7053 - val_sparse_categorical_accuracy: 0.7659\n",
            "Epoch 281/400\n",
            "37/37 [==============================] - 22s 590ms/step - loss: 0.2142 - sparse_categorical_accuracy: 0.9564 - val_loss: 2.7114 - val_sparse_categorical_accuracy: 0.7651\n",
            "Epoch 282/400\n",
            "37/37 [==============================] - 22s 585ms/step - loss: 0.2112 - sparse_categorical_accuracy: 0.9572 - val_loss: 2.7138 - val_sparse_categorical_accuracy: 0.7644\n",
            "Epoch 283/400\n",
            "37/37 [==============================] - 22s 589ms/step - loss: 0.2140 - sparse_categorical_accuracy: 0.9559 - val_loss: 2.7290 - val_sparse_categorical_accuracy: 0.7650\n",
            "Epoch 284/400\n",
            "37/37 [==============================] - 22s 591ms/step - loss: 0.2116 - sparse_categorical_accuracy: 0.9569 - val_loss: 2.7193 - val_sparse_categorical_accuracy: 0.7654\n",
            "Epoch 285/400\n",
            "37/37 [==============================] - 22s 590ms/step - loss: 0.2075 - sparse_categorical_accuracy: 0.9577 - val_loss: 2.7280 - val_sparse_categorical_accuracy: 0.7651\n",
            "Epoch 286/400\n",
            "37/37 [==============================] - 22s 589ms/step - loss: 0.2051 - sparse_categorical_accuracy: 0.9583 - val_loss: 2.7437 - val_sparse_categorical_accuracy: 0.7667\n",
            "Epoch 287/400\n",
            "37/37 [==============================] - 22s 590ms/step - loss: 0.1998 - sparse_categorical_accuracy: 0.9597 - val_loss: 2.7455 - val_sparse_categorical_accuracy: 0.7648\n",
            "Epoch 288/400\n",
            "37/37 [==============================] - 22s 589ms/step - loss: 0.1936 - sparse_categorical_accuracy: 0.9613 - val_loss: 2.7402 - val_sparse_categorical_accuracy: 0.7654\n",
            "Epoch 289/400\n",
            "37/37 [==============================] - 22s 585ms/step - loss: 0.1938 - sparse_categorical_accuracy: 0.9609 - val_loss: 2.7502 - val_sparse_categorical_accuracy: 0.7647\n",
            "Epoch 290/400\n",
            "37/37 [==============================] - 22s 590ms/step - loss: 0.1868 - sparse_categorical_accuracy: 0.9629 - val_loss: 2.7550 - val_sparse_categorical_accuracy: 0.7654\n",
            "Epoch 291/400\n",
            "37/37 [==============================] - 22s 584ms/step - loss: 0.1807 - sparse_categorical_accuracy: 0.9644 - val_loss: 2.7713 - val_sparse_categorical_accuracy: 0.7653\n",
            "Epoch 292/400\n",
            "37/37 [==============================] - 22s 590ms/step - loss: 0.1747 - sparse_categorical_accuracy: 0.9662 - val_loss: 2.7813 - val_sparse_categorical_accuracy: 0.7656\n",
            "Epoch 293/400\n",
            "37/37 [==============================] - 22s 590ms/step - loss: 0.1713 - sparse_categorical_accuracy: 0.9670 - val_loss: 2.7888 - val_sparse_categorical_accuracy: 0.7658\n",
            "Epoch 294/400\n",
            "37/37 [==============================] - 22s 591ms/step - loss: 0.1682 - sparse_categorical_accuracy: 0.9677 - val_loss: 2.7911 - val_sparse_categorical_accuracy: 0.7647\n",
            "Epoch 295/400\n",
            "37/37 [==============================] - 22s 590ms/step - loss: 0.1618 - sparse_categorical_accuracy: 0.9695 - val_loss: 2.8026 - val_sparse_categorical_accuracy: 0.7659\n",
            "Epoch 296/400\n",
            "37/37 [==============================] - 22s 591ms/step - loss: 0.1585 - sparse_categorical_accuracy: 0.9703 - val_loss: 2.8065 - val_sparse_categorical_accuracy: 0.7647\n",
            "\n",
            "Reached 97% accuracy so cancelling training!\n"
          ],
          "name": "stdout"
        },
        {
          "output_type": "execute_result",
          "data": {
            "text/plain": [
              "<tensorflow.python.keras.callbacks.History at 0x7f0a82c76fd0>"
            ]
          },
          "metadata": {
            "tags": []
          },
          "execution_count": 35
        }
      ]
    },
    {
      "cell_type": "code",
      "metadata": {
        "id": "iFbbAGWqvAoM"
      },
      "source": [
        "# save the model\n",
        "\n",
        "model.save(\"/content/drive/My Drive/NMT/weights(8).h5\")"
      ],
      "execution_count": 36,
      "outputs": []
    },
    {
      "cell_type": "markdown",
      "metadata": {
        "id": "ib8ACtTM2iWk"
      },
      "source": [
        "*******"
      ]
    },
    {
      "cell_type": "code",
      "metadata": {
        "id": "FBxx1Juzbak3"
      },
      "source": [
        "# function to make prediction\n",
        "def prediction(x, x_tokenizer = x_tokenizer, y_tokenizer = y_tokenizer):\n",
        "    predictions = model.predict(x)[0]\n",
        "    id_to_word = {id: word for word, id in y_tokenizer.word_index.items()}\n",
        "    id_to_word[0] = ''\n",
        "    return ' '.join([id_to_word[j] for j in np.argmax(predictions,1)])"
      ],
      "execution_count": 37,
      "outputs": []
    },
    {
      "cell_type": "code",
      "metadata": {
        "id": "nSknw3DJb0Ks"
      },
      "source": [
        "# function to obtain the text from padded variables\n",
        "def pad_to_text(padded, tokenizer):\n",
        "\n",
        "    id_to_word = {id: word for word, id in tokenizer.word_index.items()}\n",
        "    id_to_word[0] = ''\n",
        "    padded = padded.flatten()\n",
        "    return ' '.join([id_to_word[j] for j in  [i for i in padded]])"
      ],
      "execution_count": 54,
      "outputs": []
    },
    {
      "cell_type": "code",
      "metadata": {
        "id": "AXMElUZ0OxWC"
      },
      "source": [
        "from nltk.translate.bleu_score import sentence_bleu"
      ],
      "execution_count": 57,
      "outputs": []
    },
    {
      "cell_type": "code",
      "metadata": {
        "colab": {
          "base_uri": "https://localhost:8080/"
        },
        "id": "JaFWV7JfM1oc",
        "outputId": "9a7bdbf2-a28f-419f-844e-83edb538e570"
      },
      "source": [
        "for i in range(1, 10):\n",
        "  y = pad_to_text(y_train[i], y_tokenizer)\n",
        "  y_pred = prediction(x_train[i:i+1])\n",
        "  print('Original English word - {}\\n'.format(pad_to_text(x_train[i], x_tokenizer)))\n",
        "  print('Original Hindi word - {}\\n'.format(y))\n",
        "  print('Predicted Hindi word - {}\\n'.format(y_pred))\n",
        "  score = sentence_bleu(y, y_pred)\n",
        "  print('Bleu Score:  ', score, '\\n\\n\\n')"
      ],
      "execution_count": 60,
      "outputs": [
        {
          "output_type": "stream",
          "text": [
            "Original English word - it is the shop 's responsibility to collect them                        \n",
            "\n",
            "Original Hindi word - उन्हें ले जाने की ज़िम्मेदारी दुकानदार की है                \n",
            "\n",
            "Predicted Hindi word - उन्हें ले से की ज़िम्मेदारी दुकानदार की है                \n",
            "\n",
            "Bleu Score:   0.7565391407404769 \n",
            "\n",
            "\n",
            "\n",
            "Original English word - and one bowl of delicious goldfish crackers                          \n",
            "\n",
            "Original Hindi word - और एक में स्वादिष्ट गोल्डफ़िश जैसे बिस्कुट।                 \n",
            "\n",
            "Predicted Hindi word - और एक में स्वादिष्ट गोल्डफ़िश जैसे बिस्कुट।                 \n",
            "\n",
            "Bleu Score:   0.8265168183793802 \n",
            "\n",
            "\n",
            "\n",
            "Original English word - they kind of chose suspicion                            \n",
            "\n",
            "Original Hindi word - उन्होंने एक प्रकार से संदेह चुना                  \n",
            "\n",
            "Predicted Hindi word - उन्होंने एक प्रकार से संदेह चुना                  \n",
            "\n",
            "Bleu Score:   0.7636066981663598 \n",
            "\n",
            "\n",
            "\n",
            "Original English word - so think of it as a monitor for the blind                       \n",
            "\n",
            "Original Hindi word - इसे नेत्रहीन के लिए दृश्य दिखाने वाला पर्दा समझिये               \n",
            "\n",
            "Predicted Hindi word - अपने नेत्रहीन के लिए लिए दिखाने लिये पर्दा समझिये               \n",
            "\n",
            "Bleu Score:   0.7476743906106103 \n",
            "\n",
            "\n",
            "\n",
            "Original English word - “no i look up and the light she change ”                       \n",
            "\n",
            "Original Hindi word - नहीं मैंने ऊपर देखा और वो बत्ती वो बदल गयी ”             \n",
            "\n",
            "Predicted Hindi word - मुझे कहा ऊपर एक एक वो बत्ती वो हो गयी ”             \n",
            "\n",
            "Bleu Score:   0.7561559858236034 \n",
            "\n",
            "\n",
            "\n"
          ],
          "name": "stdout"
        },
        {
          "output_type": "stream",
          "text": [
            "/usr/local/lib/python3.7/dist-packages/nltk/translate/bleu_score.py:490: UserWarning: \n",
            "Corpus/Sentence contains 0 counts of 2-gram overlaps.\n",
            "BLEU scores might be undesirable; use SmoothingFunction().\n",
            "  warnings.warn(_msg)\n"
          ],
          "name": "stderr"
        },
        {
          "output_type": "stream",
          "text": [
            "Original English word - headquarter of youtube is in san bruno                          \n",
            "\n",
            "Original Hindi word - यूट्यूब का मुख्यालय सैन ब्रुनॊ में है                 \n",
            "\n",
            "Predicted Hindi word - यूट्यूब का मुख्यालय सैन ब्रुनॊ में है                 \n",
            "\n",
            "Bleu Score:   0.7801157731069053 \n",
            "\n",
            "\n",
            "\n",
            "Original English word - this is 40 metre height                            \n",
            "\n",
            "Original Hindi word - यह प्रत्येक 40 मीटर ऊँची है।                  \n",
            "\n",
            "Predicted Hindi word - यह प्रत्येक 40 मीटर ऊँची है।                  \n",
            "\n",
            "Bleu Score:   0.8016761109807073 \n",
            "\n",
            "\n",
            "\n",
            "Original English word - my favorite is sophocles' “oedipus the king ”                         \n",
            "\n",
            "Original Hindi word - मेरा पसंदीदा है “sophocles ईडिपस राजा”                  \n",
            "\n",
            "Predicted Hindi word - मेरा पसंदीदा है “sophocles ईडिपस राजा”                  \n",
            "\n",
            "Bleu Score:   0.8174063278327743 \n",
            "\n",
            "\n",
            "\n",
            "Original English word - so flying versus driving                             \n",
            "\n",
            "Original Hindi word - जैसे हवाई जहाज की अपेक्षा कार का सफ़र                \n",
            "\n",
            "Predicted Hindi word - जैसे हवाई हवाई की अपेक्षा कार लाभ सफ़र                \n",
            "\n",
            "Bleu Score:   0.7598356856515925 \n",
            "\n",
            "\n",
            "\n"
          ],
          "name": "stdout"
        }
      ]
    },
    {
      "cell_type": "code",
      "metadata": {
        "colab": {
          "base_uri": "https://localhost:8080/"
        },
        "id": "QhyVDTNRbciv",
        "outputId": "045f3cd2-fccc-47fe-d0ba-c811ba499032"
      },
      "source": [
        "for i in range(1, 10):\n",
        "  y = pad_to_text(y_test[i], y_tokenizer)\n",
        "  y_pred = prediction(x_test[i:i+1])\n",
        "  print('Original English word - {}\\n'.format(pad_to_text(x_test[i], x_tokenizer)))\n",
        "  print('Original Hindi word - {}\\n'.format(y))\n",
        "  print('Predicted Hindi word - {}\\n'.format(y_pred))\n",
        "  score = sentence_bleu(y, y_pred)\n",
        "  print('Bleu Score:  ', score, '\\n\\n\\n')"
      ],
      "execution_count": 61,
      "outputs": [
        {
          "output_type": "stream",
          "text": [
            "Original English word - many millions of pilgrims come each year mandiroanmen                         \n",
            "\n",
            "Original Hindi word - कई मन्दिरों में हर साल लाखों तीर्थयात्री आते हैं।               \n",
            "\n",
            "Predicted Hindi word - इन कई कई के में एक फैसले मर किया है।              \n",
            "\n",
            "Bleu Score:   0.7521206186172787 \n",
            "\n",
            "\n",
            "\n",
            "Original English word - hockey is the national sport                            \n",
            "\n",
            "Original Hindi word - हॉकी राष्ट्रीय खेल है ।                   \n",
            "\n",
            "Predicted Hindi word - झुला में पूर्ण गुब्बारा है                   \n",
            "\n",
            "Bleu Score:   0.6493358309501979 \n",
            "\n",
            "\n",
            "\n",
            "Original English word - but that's only half the story                           \n",
            "\n",
            "Original Hindi word - मगर ये सिर्फ़ आधी ही कहानी है।                 \n",
            "\n",
            "Predicted Hindi word - पर ये ये ये ये दूसरी कहानी है                \n",
            "\n",
            "Bleu Score:   0.7031452428005499 \n",
            "\n",
            "\n",
            "\n",
            "Original English word - thank you sk thank you                            \n",
            "\n",
            "Original Hindi word - धन्यवाद। सलमान ख़ान धन्यवाद।                    \n",
            "\n",
            "Predicted Hindi word - आप आज आपको                     \n",
            "\n",
            "Bleu Score:   0.42379865741502165 \n",
            "\n",
            "\n",
            "\n",
            "Original English word - bulandshahar district                               \n",
            "\n",
            "Original Hindi word - बुलन्दशहर जिला                      \n",
            "\n",
            "Predicted Hindi word - बुलन्दशहर जिला                      \n",
            "\n",
            "Bleu Score:   0.7751936613371729 \n",
            "\n",
            "\n",
            "\n"
          ],
          "name": "stdout"
        },
        {
          "output_type": "stream",
          "text": [
            "/usr/local/lib/python3.7/dist-packages/nltk/translate/bleu_score.py:490: UserWarning: \n",
            "Corpus/Sentence contains 0 counts of 2-gram overlaps.\n",
            "BLEU scores might be undesirable; use SmoothingFunction().\n",
            "  warnings.warn(_msg)\n"
          ],
          "name": "stderr"
        },
        {
          "output_type": "stream",
          "text": [
            "Original English word - chinese students coming elsewhere and going to school                         \n",
            "\n",
            "Original Hindi word - चीनी छात्र दूसरी जगह आ कर स्कूल जा रहे थे              \n",
            "\n",
            "Predicted Hindi word - और चुपचाप दोस्त और और और मौका चाहता था               \n",
            "\n",
            "Bleu Score:   0.674961814926904 \n",
            "\n",
            "\n",
            "\n",
            "Original English word - kepler won't find a planet                            \n",
            "\n",
            "Original Hindi word - केपलर हर उस तारे के आसपास ग्रह नहीं                \n",
            "\n",
            "Predicted Hindi word - इन सभी द्वारा पर पर तकनीक हैं                 \n",
            "\n",
            "Bleu Score:   0.7146704964214272 \n",
            "\n",
            "\n",
            "\n",
            "Original English word - kokani goanese from kokan or goa region                          \n",
            "\n",
            "Original Hindi word - कोंकणी गोआनी                      \n",
            "\n",
            "Predicted Hindi word - एम एम से पीछे भी भी वेतन हैं                \n",
            "\n",
            "Bleu Score:   0.5491004867761125 \n",
            "\n",
            "\n",
            "\n",
            "Original English word - and they will double their energy use                          \n",
            "\n",
            "Original Hindi word - और ऊर्जा का उपयोग दुगुना कर देंगे                 \n",
            "\n",
            "Predicted Hindi word - और भी स्थानीय पानी उत्पाद                   \n",
            "\n",
            "Bleu Score:   0.6904573083274563 \n",
            "\n",
            "\n",
            "\n"
          ],
          "name": "stdout"
        }
      ]
    },
    {
      "cell_type": "markdown",
      "metadata": {
        "id": "vvHPXSmrbdYJ"
      },
      "source": [
        "***************"
      ]
    },
    {
      "cell_type": "markdown",
      "metadata": {
        "id": "s1mJU67aUjbB"
      },
      "source": [
        "## Ignore\n"
      ]
    },
    {
      "cell_type": "code",
      "metadata": {
        "id": "YMfE-qXVMiTG"
      },
      "source": [
        "#model = keras.models.load_model(\"/content/drive/My Drive/NMT/weights(5).h5\")"
      ],
      "execution_count": 33,
      "outputs": []
    },
    {
      "cell_type": "code",
      "metadata": {
        "id": "JmcsVgl77UOS",
        "colab": {
          "base_uri": "https://localhost:8080/",
          "height": 163
        },
        "outputId": "3204a519-23e3-4b6e-ee84-dd4add67bf2c"
      },
      "source": [
        "'''test_eng[:5]'''"
      ],
      "execution_count": 34,
      "outputs": [
        {
          "output_type": "error",
          "ename": "NameError",
          "evalue": "ignored",
          "traceback": [
            "\u001b[0;31m---------------------------------------------------------------------------\u001b[0m",
            "\u001b[0;31mNameError\u001b[0m                                 Traceback (most recent call last)",
            "\u001b[0;32m<ipython-input-34-74a8dc1b9893>\u001b[0m in \u001b[0;36m<module>\u001b[0;34m()\u001b[0m\n\u001b[0;32m----> 1\u001b[0;31m \u001b[0mtest_eng\u001b[0m\u001b[0;34m[\u001b[0m\u001b[0;34m:\u001b[0m\u001b[0;36m5\u001b[0m\u001b[0;34m]\u001b[0m\u001b[0;34m\u001b[0m\u001b[0;34m\u001b[0m\u001b[0m\n\u001b[0m",
            "\u001b[0;31mNameError\u001b[0m: name 'test_eng' is not defined"
          ]
        }
      ]
    },
    {
      "cell_type": "code",
      "metadata": {
        "id": "Y41joMwq27Dk"
      },
      "source": [
        "'''test_hindi[:5]'''"
      ],
      "execution_count": null,
      "outputs": []
    },
    {
      "cell_type": "code",
      "metadata": {
        "id": "9DDsFzrzNL5Z"
      },
      "source": [
        "'''for i in test_eng[0]:\n",
        "  if i not in  [0, 1, 2]:\n",
        "    print(eng_tokenizer.index_word[i], end=' ')\n",
        "'''"
      ],
      "execution_count": null,
      "outputs": []
    },
    {
      "cell_type": "code",
      "metadata": {
        "id": "_EMzoRO_Upr1"
      },
      "source": [
        "'''for i in test_hindi[0]:\n",
        "  if i not in  [0, 1, 2]:\n",
        "    print(hindi_tokenizer.index_word[i], end=' ')\n",
        "'''"
      ],
      "execution_count": null,
      "outputs": []
    },
    {
      "cell_type": "code",
      "metadata": {
        "id": "3vNCApLRUHeY"
      },
      "source": [
        "'''hindi_pred = model.predict(eng_tokenized_test[0])\n",
        "\n",
        "output_id=tf.math.argmax(hindi_pred[0], 1)\n",
        "print(output_id)\n",
        "for i in output_id:\n",
        "  if i not in  [0, 1, 2]:\n",
        "    print(hindi_tokenizer.index_word[i.numpy], end=' ')'''"
      ],
      "execution_count": null,
      "outputs": []
    },
    {
      "cell_type": "markdown",
      "metadata": {
        "id": "vqunHqh3TeJD"
      },
      "source": [
        ""
      ]
    },
    {
      "cell_type": "code",
      "metadata": {
        "id": "r8xxsannTd6D"
      },
      "source": [
        ""
      ],
      "execution_count": null,
      "outputs": []
    },
    {
      "cell_type": "code",
      "metadata": {
        "id": "_zDWJ-wtTddu"
      },
      "source": [
        ""
      ],
      "execution_count": null,
      "outputs": []
    },
    {
      "cell_type": "code",
      "metadata": {
        "id": "emU01oJ3X_by"
      },
      "source": [
        "#eng_tokenized_test[0]"
      ],
      "execution_count": null,
      "outputs": []
    },
    {
      "cell_type": "code",
      "metadata": {
        "id": "izeKcsOfQgkv"
      },
      "source": [
        "#hindi_pred = model.predict(eng_tokenized_test[0])\n",
        "#hindi_pred"
      ],
      "execution_count": null,
      "outputs": []
    },
    {
      "cell_type": "code",
      "metadata": {
        "id": "4FG9n-mPYETG"
      },
      "source": [
        "#output_id = tf.math.argmax(hindi_pred,-1)\n",
        "#output_id"
      ],
      "execution_count": null,
      "outputs": []
    },
    {
      "cell_type": "code",
      "metadata": {
        "id": "z2HhkIqHYTwg"
      },
      "source": [
        "#output_id = output_id[4][1].numpy()\n",
        "#output_id"
      ],
      "execution_count": null,
      "outputs": []
    },
    {
      "cell_type": "code",
      "metadata": {
        "id": "5OhaEES0YevR"
      },
      "source": [
        "#hindi_tokenizer_test.index_word[output_id]"
      ],
      "execution_count": null,
      "outputs": []
    },
    {
      "cell_type": "code",
      "metadata": {
        "id": "8oZFwXOTYq5o"
      },
      "source": [
        "#english_test[0]"
      ],
      "execution_count": null,
      "outputs": []
    },
    {
      "cell_type": "code",
      "metadata": {
        "id": "77j5rgJFZ1iR"
      },
      "source": [
        "#hindi_test[0]"
      ],
      "execution_count": null,
      "outputs": []
    },
    {
      "cell_type": "code",
      "metadata": {
        "id": "-RQ9r0aGZ4V6"
      },
      "source": [
        ""
      ],
      "execution_count": null,
      "outputs": []
    }
  ]
}